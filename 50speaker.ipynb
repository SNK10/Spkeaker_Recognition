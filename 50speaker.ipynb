{
 "cells": [
  {
   "cell_type": "code",
   "execution_count": 2,
   "metadata": {},
   "outputs": [
    {
     "name": "stdout",
     "output_type": "stream",
     "text": [
      "train accuracy =  98.0 %\n",
      "speaker:- [0]\n",
      "speaker:- [1]\n"
     ]
    }
   ],
   "source": [
    "#Art by Ankit\n",
    "\n",
    "import librosa\n",
    "from librosa.feature import mfcc\n",
    "import numpy as np\n",
    "from sklearn.svm import SVC\n",
    "\n",
    "X = []\n",
    "Y = []\n",
    "\n",
    "#extracting mfcc feature and preparing train data\n",
    "for i in range(50):\n",
    "    y, sr = librosa.load('data/' + str(i) + '.wav') \n",
    "    mfcc = librosa.feature.mfcc(y=y, sr=sr, n_mfcc=40)\n",
    "    mfcc = mfcc[20:21, :50].reshape(50)\n",
    "    X.append(mfcc)\n",
    "\n",
    "for i in range(50):\n",
    "    Y.append(i)\n",
    "\n",
    "#training and gatting accuracy\n",
    "clf = SVC(gamma='auto')\n",
    "clf.fit(X, Y) \n",
    "print(\"train accuracy = \", clf.score(X, Y)*100, \"%\")\n",
    "\n",
    "#testing\n",
    "y0, sr0 = librosa.load('test/firstspeaker.wav') \n",
    "mfcc0 = librosa.feature.mfcc(y=y0, sr=sr0, n_mfcc=40)\n",
    "mfcc0 = mfcc0[20:21, :50].reshape(50)\n",
    "\n",
    "y1, sr1 = librosa.load('test/secondspeaker.wav') \n",
    "mfcc1 = librosa.feature.mfcc(y=y1, sr=sr1, n_mfcc=40)\n",
    "mfcc1 = mfcc1[20:21, :50].reshape(50)\n",
    "\n",
    "print(\"speaker:-\", clf.predict([mfcc0]))\n",
    "print(\"speaker:-\", clf.predict([mfcc1]))"
   ]
  },
  {
   "cell_type": "code",
   "execution_count": null,
   "metadata": {},
   "outputs": [],
   "source": []
  }
 ],
 "metadata": {
  "kernelspec": {
   "display_name": "Python 3",
   "language": "python",
   "name": "python3"
  },
  "language_info": {
   "codemirror_mode": {
    "name": "ipython",
    "version": 3
   },
   "file_extension": ".py",
   "mimetype": "text/x-python",
   "name": "python",
   "nbconvert_exporter": "python",
   "pygments_lexer": "ipython3",
   "version": "3.6.6"
  }
 },
 "nbformat": 4,
 "nbformat_minor": 2
}
